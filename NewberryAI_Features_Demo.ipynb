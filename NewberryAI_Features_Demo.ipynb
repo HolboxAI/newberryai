{
 "cells": [
  {
   "cell_type": "code",
   "execution_count": 1,
   "metadata": {},
   "outputs": [],
   "source": [
    "# NewberryAI SDK: All Features Demo\n",
    "import os "
   ]
  },
  {
   "cell_type": "code",
   "execution_count": null,
   "metadata": {},
   "outputs": [],
   "source": [
    "# Install the SDK if not already installed\n",
    "! pip install -e ."
   ]
  },
  {
   "cell_type": "code",
   "execution_count": null,
   "metadata": {},
   "outputs": [],
   "source": [
    "!pip show newberryai"
   ]
  },
  {
   "cell_type": "code",
   "execution_count": null,
   "metadata": {},
   "outputs": [],
   "source": [
    "! pip install --upgrade boto3 botocore\n"
   ]
  },
  {
   "cell_type": "code",
   "execution_count": null,
   "metadata": {},
   "outputs": [],
   "source": [
    "! pip install -r requirements.txt"
   ]
  },
  {
   "cell_type": "code",
   "execution_count": null,
   "metadata": {},
   "outputs": [],
   "source": [
    "## 1. Compliance Checker\n",
    "#Analyze videos for regulatory compliance. Requires AWS credentials.\n",
    "from newberryai import ComplianceChecker\n",
    "\n",
    "checker = ComplianceChecker()\n",
    "video_file = 'kirtivideo.mp4'\n",
    "compliance_question = 'Is the video compliant with safety regulations such as mask?'\n",
    "\n",
    "result, status_code = checker.check_compliance(\n",
    "    video_file=video_file,\n",
    "    prompt=compliance_question\n",
    ")\n",
    "if status_code:\n",
    "    print(f'Error: {result.get(\"error\", \"Unknown error\")}')\n",
    "else:\n",
    "    print(f'Compliant: {\"Yes\" if result[\"compliant\"] else \"No\"}')\n",
    "    print(f'Analysis: {result[\"analysis\"]}')"
   ]
  },
  {
   "cell_type": "code",
   "execution_count": 10,
   "metadata": {},
   "outputs": [
    {
     "name": "stderr",
     "output_type": "stream",
     "text": [
      "/Users/satya/Documents/newberryai/newberryai/eda.py:18: SyntaxWarning: invalid escape sequence '\\$'\n",
      "  * Example: Instead of explaining how to calculate the mean, state the mean value directly, e.g., \"The mean price is \\$445.86.\"\n"
     ]
    },
    {
     "name": "stdout",
     "output_type": "stream",
     "text": [
      "Starting HealthScribe process...\n",
      "Job Name: sdk_test\n",
      "Audio File URI: https://dax-healthscribe-v2.s3.amazonaws.com/CAR0001.mp3\n",
      "Current status: IN_PROGRESS\n",
      "Current status: IN_PROGRESS\n",
      "Current status: IN_PROGRESS\n",
      "Current status: IN_PROGRESS\n",
      "Current status: IN_PROGRESS\n",
      "Current status: IN_PROGRESS\n",
      "Current status: IN_PROGRESS\n",
      "Current status: IN_PROGRESS\n",
      "Current status: IN_PROGRESS\n",
      "Current status: IN_PROGRESS\n",
      "Current status: IN_PROGRESS\n",
      "Current status: COMPLETED\n",
      "Generating presigned URL for JSON file\n",
      "Status: Complete\n"
     ]
    },
    {
     "ename": "AttributeError",
     "evalue": "'dict' object has no attribute 'summary'",
     "output_type": "error",
     "traceback": [
      "\u001b[31m---------------------------------------------------------------------------\u001b[39m",
      "\u001b[31mAttributeError\u001b[39m                            Traceback (most recent call last)",
      "\u001b[36mCell\u001b[39m\u001b[36m \u001b[39m\u001b[32mIn[10]\u001b[39m\u001b[32m, line 13\u001b[39m\n\u001b[32m      4\u001b[39m scribe = HealthScribe(\n\u001b[32m      5\u001b[39m     input_s3_bucket=\u001b[33m'\u001b[39m\u001b[33mdax-healthscribe-v2\u001b[39m\u001b[33m'\u001b[39m,\n\u001b[32m      6\u001b[39m     data_access_role_arn=\u001b[33m'\u001b[39m\u001b[33marn:aws:iam::992382417943:role/Healthscribe-role\u001b[39m\u001b[33m'\u001b[39m\n\u001b[32m      7\u001b[39m )\n\u001b[32m      8\u001b[39m result = scribe.process(\n\u001b[32m      9\u001b[39m     file_path=\u001b[33mr\u001b[39m\u001b[33m'\u001b[39m\u001b[33mCAR0001.mp3\u001b[39m\u001b[33m'\u001b[39m,\n\u001b[32m     10\u001b[39m     job_name=\u001b[33m'\u001b[39m\u001b[33msdk_test\u001b[39m\u001b[33m'\u001b[39m,\n\u001b[32m     11\u001b[39m     output_s3_bucket=\u001b[33m'\u001b[39m\u001b[33mdax-healthscribe-v2\u001b[39m\u001b[33m'\u001b[39m\n\u001b[32m     12\u001b[39m )\n\u001b[32m---> \u001b[39m\u001b[32m13\u001b[39m \u001b[38;5;28mprint\u001b[39m(\u001b[43mresult\u001b[49m\u001b[43m.\u001b[49m\u001b[43msummary\u001b[49m)\n",
      "\u001b[31mAttributeError\u001b[39m: 'dict' object has no attribute 'summary'"
     ]
    }
   ],
   "source": [
    "# 2. HealthScribe\n",
    "# Medical transcription using AWS HealthScribe. Requires AWS credentials.\n",
    "from newberryai import HealthScribe\n",
    "scribe = HealthScribe(\n",
    "    input_s3_bucket='dax-healthscribe-v2',\n",
    "    data_access_role_arn='arn:aws:iam::992382417943:role/Healthscribe-role'\n",
    ")\n",
    "result = scribe.process(\n",
    "    file_path=r'CAR0001.mp3',\n",
    "    job_name='sdk_test',\n",
    "    output_s3_bucket='dax-healthscribe-v2'\n",
    ")\n",
    "print(result[\"summary\"])"
   ]
  },
  {
   "cell_type": "code",
   "execution_count": 12,
   "metadata": {},
   "outputs": [
    {
     "name": "stdout",
     "output_type": "stream",
     "text": [
      "CHIEF_COMPLAINT:\n",
      "- Chest pain\n",
      "\n",
      "HISTORY_OF_PRESENT_ILLNESS:\n",
      "- The patient, a 39-year-old male, presents to the clinic today with a chief complaint of chest pain.\n",
      "- The pain started last night and has been persistent, lasting for approximately 8 hours.\n",
      "- The patient describes the pain as sharp, rating it as a 7 or 8 out of 10 in severity.\n",
      "- The pain is localized to the left side of the chest and does not radiate.\n",
      "- The patient reports that lying down exacerbates the pain, while sitting up provides some relief.\n",
      "- Deep breathing also seems to worsen the discomfort.\n",
      "\n",
      "- Associated symptoms include lightheadedness and difficulty breathing.\n",
      "- The patient denies any loss of consciousness, but reports experiencing some palpitations and shortness of breath since the onset of the pain.\n",
      "- The patient has not experienced any sweating, fever, chills, nausea, vomiting, abdominal pain, urinary problems, or bowel issues.\n",
      "- There is no history of cough, hemoptysis, or wheezing.\n",
      "- The patient denies any recent trauma to the chest or back, and has not been immobilized or significantly limited in movement recently.\n",
      "\n",
      "- This is the first time the patient has experienced such symptoms.\n",
      "- The patient has no significant past medical history, no prior hospitalizations, and no history of surgeries.\n",
      "- They are not currently taking any regular medications, either prescription or over-the-counter.\n",
      "- The patient reports no known allergies to medications.\n",
      "- Their immunizations are up to date.\n",
      "\n",
      "- Regarding social history, the patient lives alone in an apartment and works as an accountant.\n",
      "- They smoke approximately one pack of cigarettes per day, having done so for the past 10-15 years.\n",
      "- The patient also reports occasional cannabis use, consuming about 5 mg per week.\n",
      "- They consume alcohol regularly, having about 1-2 drinks per day, totaling approximately 10 drinks per week.\n",
      "- The patient tries to maintain a healthy diet for dinner and exercises every other day by running for about half an hour.\n",
      "\n",
      "- Family history is significant for paternal history of myocardial infarction at age 45 and hypercholesterolemia.\n",
      "- There is no family history of stroke or cancer.\n",
      "\n",
      "\n",
      "REVIEW_OF_SYSTEMS:\n",
      "- Constitutional: Reports chest pain, reports lightheadedness, reports dyspnea, denies loss of consciousness, denies fever, denies chills, denies night sweats.\n",
      "- Cardiovascular: Reports palpitations.\n",
      "- Respiratory: Reports dyspnea, denies cough, denies hemoptysis, denies wheezing.\n",
      "- Gastrointestinal: Denies nausea, denies vomiting, denies abdominal pain.\n",
      "- Genitourinary: Denies urinary problems.\n",
      "- Integumentary: Denies rashes, reports neck swelling.\n",
      "\n",
      "PAST_MEDICAL_HISTORY:\n",
      "- Medical:\n",
      "- No significant past medical history.\n",
      "- Surgical:\n",
      "- No prior surgeries.\n",
      "- Allergies:\n",
      "- NO KNOWN DRUG ALLERGIES.\n",
      "- Medications:\n",
      "- No current medications.\n",
      "\n",
      "PAST_FAMILY_HISTORY:\n",
      "- Father had myocardial infarction at age 45.\n",
      "- Father had hypercholesterolemia.\n",
      "- No family history of cerebrovascular accident.\n",
      "- No family history of malignancy.\n",
      "\n",
      "PAST_SOCIAL_HISTORY:\n",
      "- 39-year-old male.\n",
      "- Lives alone in an apartment.\n",
      "- Employed as an accountant.\n",
      "- Current smoker, approximately 1 pack per day for 10-15 years.\n",
      "- Occasional cannabis use, approximately 5 mg per week.\n",
      "- Alcohol consumption, approximately 1-2 drinks per day.\n",
      "- Engages in exercise every other day, running for approximately 30 minutes.\n",
      "- Attempts to maintain a healthy diet, particularly for dinner.\n",
      "\n",
      "PHYSICAL_EXAMINATION:\n",
      "\n",
      "DIAGNOSTIC_TESTING:\n",
      "\n",
      "ASSESSMENT:\n",
      "- 1. Chest pain\n",
      "\n",
      "PLAN:\n",
      "- Chest pain:\n",
      "- Performed focused physical examination to assess for any signs of cardiac, pulmonary, or musculoskeletal etiology of chest pain.\n",
      "\n",
      "- - Ordered electrocardiogram to evaluate for any arrhythmias or ischemic changes.\n",
      "\n",
      "- - Ordered chest radiograph to evaluate for any pulmonary pathology.\n",
      "\n",
      "- - Ordered cardiac biomarkers to evaluate for myocardial infarction.\n",
      "\n",
      "- - Ordered lipid panel to evaluate for hyperlipidemia.\n",
      "\n",
      "- - Discussed smoking cessation and provided patient with resources.\n",
      "\n",
      "- - Discussed alcohol cessation and provided patient with resources.\n",
      "\n",
      "- - Discussed cannabis cessation and provided patient with resources.\n",
      "\n",
      "- - Discussed importance of regular exercise and maintaining a balanced diet.\n"
     ]
    }
   ],
   "source": [
    "print(result[\"summary\"])"
   ]
  },
  {
   "cell_type": "code",
   "execution_count": 13,
   "metadata": {},
   "outputs": [
    {
     "name": "stdout",
     "output_type": "stream",
     "text": [
      "Thank you for providing the patient's presenting symptoms. I'll generate a differential diagnosis based on this information, but please note that additional details would help refine this list. Here's my analysis:\n",
      "\n",
      "1. **Summary of Patient Presentation**:\n",
      "   - Fever\n",
      "   - Cough\n",
      "   - Fatigue\n",
      "   - Duration: 5 days\n",
      "\n",
      "2. **Differential Diagnosis**:\n",
      "\n",
      "a) Respiratory Infections:\n",
      "   - Viral upper respiratory infection (URI)\n",
      "   - Community-acquired pneumonia\n",
      "   - COVID-19\n",
      "   - Influenza\n",
      "   - Acute bronchitis\n",
      "\n",
      "b) Other Infectious Causes:\n",
      "   - Tuberculosis (less likely given the acute onset, but possible)\n",
      "   - Infectious mononucleosis\n",
      "\n",
      "c) Non-Infectious Causes:\n",
      "   - Exacerbation of chronic lung disease (e.g., COPD, asthma)\n",
      "   - Acute heart failure\n",
      "\n",
      "3. **Discussion of Top Considerations**:\n",
      "\n",
      "a) Viral Upper Respiratory Infection (URI):\n",
      "   - Most common cause of these symptoms\n",
      "   - Typically self-limiting within 7-10 days\n",
      "   - Fever and fatigue are common, especially early in the course\n",
      "\n",
      "b) Community-acquired Pneumonia:\n",
      "   - Can present with fever, cough, and fatigue\n",
      "   - May have more severe symptoms or respiratory distress\n",
      "   - Often accompanied by chest pain or shortness of breath (not mentioned in this case)\n",
      "\n",
      "c) COVID-19:\n",
      "   - Given the ongoing pandemic, this should be considered in all patients with respiratory symptoms\n",
      "   - Presentation can vary from mild to severe\n",
      "   - Loss of taste or smell would be more specific (but not mentioned here)\n",
      "\n",
      "d) Influenza:\n",
      "   - Seasonal consideration (depending on the time of year)\n",
      "   - Often presents with more sudden onset and more severe systemic symptoms\n",
      "\n",
      "4. **Suggested Diagnostic Approach**:\n",
      "\n",
      "a) Detailed history:\n",
      "   - Onset and progression of symptoms\n",
      "   - Associated symptoms (e.g., sore throat, runny nose, chest pain, shortness of breath)\n",
      "   - Recent exposures or travel\n",
      "   - Vaccination status (especially for influenza and COVID-19)\n",
      "   - Past medical history, including any chronic lung or heart conditions\n",
      "\n",
      "b) Physical examination:\n",
      "   - Vital signs (including oxygen saturation)\n",
      "   - Focused respiratory and cardiovascular exam\n",
      "   - Check for lymphadenopathy (consider mononucleosis)\n",
      "\n",
      "c) Initial testing:\n",
      "   - COVID-19 PCR test\n",
      "   - Influenza rapid test (if in season)\n",
      "   - Chest X-ray to evaluate for pneumonia\n",
      "   - Basic blood work: Complete blood count, basic metabolic panel\n",
      "\n",
      "d) Consider based on initial results and clinical suspicion:\n",
      "   - Sputum culture if bacterial pneumonia is suspected\n",
      "   - Blood cultures if sepsis is a concern\n",
      "   - Procalcitonin level to differentiate between viral and bacterial infections\n",
      "   - EKG and BNP if heart failure is suspected\n",
      "\n",
      "5. **Disclaimer**:\n",
      "This differential diagnosis is generated to assist clinical reasoning but is not a substitute for professional medical judgment. The suggestions provided should be verified and interpreted by qualified healthcare professionals in the context of the specific patient scenario. The differential diagnosis generated is based solely on the information provided and may change significantly with additional clinical details. This tool does not provide definitive medical advice, diagnosis, or treatment recommendations. In case of medical emergency, contact emergency services immediately.\n"
     ]
    }
   ],
   "source": [
    "## 3. Differential Diagnosis (DDx) Assistant\n",
    "#Get assistance with clinical diagnosis.\n",
    "from newberryai import DDxChat\n",
    "\n",
    "ddx_chat = DDxChat()\n",
    "response = ddx_chat.ask('Patient presents with fever, cough, and fatigue for 5 days')\n",
    "print(response)"
   ]
  },
  {
   "cell_type": "code",
   "execution_count": 14,
   "metadata": {},
   "outputs": [
    {
     "name": "stdout",
     "output_type": "stream",
     "text": [
      "Certainly! I'll provide you with an Excel formula to calculate the average sales for the years 2010 and 2011 based on the information you've given. Here's the formula:\n",
      "\n",
      "=AVERAGEIFS(A:A, B:B, \"2010\", B:B, \"2011\")\n",
      "\n",
      "Let's break down this formula and explain its components:\n",
      "\n",
      "1. AVERAGEIFS: This is an advanced function in Excel that calculates the average of cells that meet multiple criteria.\n",
      "\n",
      "2. A:A: This is the range where your sales data is located (Column A).\n",
      "\n",
      "3. B:B: This is the range where your year data is located (Column B).\n",
      "\n",
      "4. \"2010\" and \"2011\": These are the criteria for the years we want to include in our average calculation.\n",
      "\n",
      "How it works:\n",
      "The AVERAGEIFS function will look at each cell in column A (sales data) and only include it in the average if the corresponding cell in column B (year data) contains either 2010 or 2011.\n",
      "\n",
      "Additional notes:\n",
      "1. This formula assumes that your data is organized with sales in Column A, years in Column B, and months in Column C (although the month information isn't used in this particular formula).\n",
      "\n",
      "2. The formula uses entire column references (A:A and B:B). If your data doesn't start at row 1 or if you have headers, you might want to adjust the ranges accordingly, e.g., A2:A1000 and B2:B1000.\n",
      "\n",
      "3. If you want to calculate the average for each year separately, you could use these formulas:\n",
      "   For 2010: =AVERAGEIF(B:B, \"2010\", A:A)\n",
      "   For 2011: =AVERAGEIF(B:B, \"2011\", A:A)\n",
      "\n",
      "4. If you need to include more specific criteria (like certain months), you can add more conditions to the AVERAGEIFS function.\n",
      "\n",
      "5. Make sure your year data in Column B is formatted as text or numbers without decimals to match the criteria \"2010\" and \"2011\".\n",
      "\n",
      "This formula will give you the average sales for the years 2010 and 2011 combined. If you need any modifications or have any questions, please let me know!\n"
     ]
    }
   ],
   "source": [
    "## 4. Excel Formula Generator AI Assistant\n",
    "#Get assistance with Excel formulas.\n",
    "from newberryai import ExcelExp\n",
    "\n",
    "excel_expert = ExcelExp()\n",
    "response = excel_expert.ask(\n",
    "\"Calculate average sales for products that meet specific criteria E.g: give me excel formula to calculate average of my sale for year 2010,2011 sales is in col A, Year in Col B  and Months in Col C\"\n",
    ")\n",
    "print(response)"
   ]
  },
  {
   "cell_type": "code",
   "execution_count": null,
   "metadata": {},
   "outputs": [],
   "source": [
    "## 5. Medical Bill Extractor\n",
    "#Extract and analyze data from medical bills.\n",
    "from newberryai import Bill_extractor\n",
    "\n",
    "extractor = Bill_extractor()\n",
    "analysis = extractor.analyze_document('fmedicalfile.jpg')\n",
    "print(analysis)"
   ]
  },
  {
   "cell_type": "code",
   "execution_count": 15,
   "metadata": {},
   "outputs": [
    {
     "name": "stdout",
     "output_type": "stream",
     "text": [
      "I'd be happy to explain and correct the code. Let's go through the issues and provide a corrected version:\n",
      "\n",
      "Issues in the original code:\n",
      "\n",
      "1. Indentation: The function body is not properly indented.\n",
      "2. Variable naming: Using 'sum' as a variable name shadows the built-in sum() function.\n",
      "3. Potential division by zero: If an empty list is passed, it will cause a ZeroDivisionError.\n",
      "4. Typo in the print statement: 'results' instead of 'result'.\n",
      "\n",
      "Here's the corrected code with explanations:\n",
      "\n",
      "```python\n",
      "def calculate_average(nums):\n",
      "    if not nums:  # Check if the list is empty\n",
      "        return None  # Return None for empty lists\n",
      "    \n",
      "    total = sum(nums)  # Use the built-in sum() function\n",
      "    average = total / len(nums)\n",
      "    return average\n",
      "\n",
      "numbers = [10, 20, 30, 40, 50]\n",
      "result = calculate_average(numbers)\n",
      "\n",
      "if result is not None:\n",
      "    print(\"The average is:\", result)\n",
      "else:\n",
      "    print(\"Cannot calculate average of an empty list\")\n",
      "```\n",
      "\n",
      "Explanations of the corrections:\n",
      "\n",
      "1. Indentation: The function body is now properly indented with 4 spaces.\n",
      "\n",
      "2. Variable naming: Changed 'sum' to 'total' to avoid shadowing the built-in sum() function.\n",
      "\n",
      "3. Empty list handling: Added a check at the beginning of the function to handle empty lists. If the list is empty, the function returns None.\n",
      "\n",
      "4. Optimization: Used the built-in sum() function instead of manually summing the numbers in a loop. This is more efficient and readable.\n",
      "\n",
      "5. Typo fix: Corrected 'results' to 'result' in the print statement.\n",
      "\n",
      "6. Error handling: Added a check before printing to handle the case where the result might be None (for empty lists).\n",
      "\n",
      "These changes make the code more robust, efficient, and follow Python best practices. The function now handles edge cases (empty lists) and uses built-in functions where appropriate.\n"
     ]
    }
   ],
   "source": [
    "## 6. Coding and Debugging AI Assistant\n",
    "#Analyze code and help you with coding as debugger.\n",
    "from newberryai import CodeReviewAssistant\n",
    "\n",
    "code_debugger = CodeReviewAssistant()\n",
    "response = code_debugger.ask('''Explain and correct below code\n",
    "def calculate_average(nums):\n",
    "sum = 0\n",
    "for num in nums:\n",
    "sum += num\n",
    "average = sum / len(nums)\n",
    "return average\n",
    "\n",
    "numbers = [10, 20, 30, 40, 50]\n",
    "result = calculate_average(numbers)\n",
    "print(\"The average is:\", results)''')\n",
    "print(response)"
   ]
  },
  {
   "cell_type": "code",
   "execution_count": 25,
   "metadata": {},
   "outputs": [],
   "source": [
    "# # 7. Speech-to-Speech Assistant\n",
    "# # Real-time voice interactive assistant.\n",
    "# from newberryai import RealtimeApp\n",
    "\n",
    "# app = RealtimeApp()\n",
    "# app.run()  # This will launch the real-time app (may block the notebook)"
   ]
  },
  {
   "cell_type": "code",
   "execution_count": 16,
   "metadata": {},
   "outputs": [
    {
     "name": "stdout",
     "output_type": "stream",
     "text": [
      "Here is the text with PII redacted:\n",
      "\n",
      "Patient name is [FirstName] [LastName] with fever. he is from [City], [State]. His email id is [EmailAddress]\n"
     ]
    }
   ],
   "source": [
    "## 8. PII Redactor AI Assistant\n",
    "#Analyze text and remove PII (personally identifiable information) from the text.\n",
    "from newberryai import PII_Redaction\n",
    "\n",
    "pii_red = PII_Redaction()\n",
    "response = pii_red.ask(\"Patient name is John Doe with fever. he is from Austin,Texas.His email id is john.doe14@email.com\")\n",
    "print(response)"
   ]
  },
  {
   "cell_type": "code",
   "execution_count": 17,
   "metadata": {},
   "outputs": [
    {
     "name": "stdout",
     "output_type": "stream",
     "text": [
      "Here's the extracted PII in JSON format:\n",
      "\n",
      "```json\n",
      "{\n",
      "  \"Name\": \"John Doe\",\n",
      "  \"Location\": \"Austin, Texas\",\n",
      "  \"Email\": \"john.doe14@email.com\"\n",
      "}\n",
      "```\n"
     ]
    }
   ],
   "source": [
    "## 9. PII Extractor AI Assistant\n",
    "#Analyze text and extract PII (personally identifiable information) from the text.\n",
    "from newberryai import PII_extraction\n",
    "\n",
    "pii_extract = PII_extraction()\n",
    "response = pii_extract.ask(\"Patient name is John Doe with fever. he is from Austin,Texas.His email id is john.doe14@email.com\")\n",
    "print(response)"
   ]
  },
  {
   "cell_type": "code",
   "execution_count": null,
   "metadata": {},
   "outputs": [],
   "source": [
    "from newberryai import EDA\n",
    "import pandas as pd\n",
    "\n",
    "eda = EDA()\n",
    "eda.current_data = pd.read_csv(r'C:\\Users\\ihars\\OneDrive\\Desktop\\package\\newberryai\\heart.csv')\n",
    "\n",
    "response = eda.ask(\"What is the average value of column 'target'?\")\n",
    "print(response)\n",
    "\n",
    "# Visualizations\n",
    "eda.visualize_data('dist')\n",
    "eda.visualize_data('corr')\n",
    "eda.visualize_data('cat')\n",
    "eda.visualize_data('time')"
   ]
  },
  {
   "cell_type": "code",
   "execution_count": 18,
   "metadata": {},
   "outputs": [
    {
     "name": "stdout",
     "output_type": "stream",
     "text": [
      "Here is a summary of the key points from the PDF document on automated performance monitoring in DevOps:\n",
      "\n",
      "Title: Bridging Software Development and Operations: Best Practices in Automated Performance Monitoring\n",
      "\n",
      "Key Points:\n",
      "\n",
      "1. The paper presents an in-depth study on integrating automated performance monitoring into DevOps practices and continuous delivery cycles.\n",
      "\n",
      "2. It reviews current literature, discusses best monitoring techniques, analyzes integration challenges, and proposes an automated framework for detecting performance issues across the software lifecycle.\n",
      "\n",
      "3. A case study approach simulates performance monitoring in a CI/CD pipeline.\n",
      "\n",
      "4. Key findings:\n",
      "   - Early integration of performance monitoring during development\n",
      "   - Use of automated diagnostic tools \n",
      "   - Can reduce downtime and promote continuous improvement\n",
      "\n",
      "5. The study used a mixed-method approach combining qualitative analysis and empirical simulation.\n",
      "\n",
      "6. Tools used include Jenkins, GitLab CI/CD, Kubernetes, Prometheus, Grafana, ELK stack, Selenium, and JMeter.\n",
      "\n",
      "7. Key performance metrics monitored: response time, throughput, error rate, resource utilization.\n",
      "\n",
      "8. Simulation scenarios included normal operation, stress testing, component failure, and resource bottlenecks.\n",
      "\n",
      "9. Results showed automated monitoring significantly reduced time to detect and resolve issues compared to manual methods.\n",
      "\n",
      "10. Key takeaways:\n",
      "    - Early integration is critical\n",
      "    - Unified tools enhance visibility  \n",
      "    - Automation reduces manual effort\n",
      "    - Promotes proactive improvement culture\n",
      "\n",
      "11. Limitations include simulation vs real-world variability, toolchain specificity, and limited anomaly types tested.\n",
      "\n",
      "The paper concludes that integrating automated performance monitoring into DevOps is essential for improving detection of issues, minimizing downtime, and enabling efficient resource management in modern software development.\n"
     ]
    }
   ],
   "source": [
    "## 11. PDF Document Summarizer\n",
    "#Extract and summarize content from PDF documents.\n",
    "from newberryai import DocSummarizer\n",
    "\n",
    "summarizer = DocSummarizer()\n",
    "response = summarizer.ask(r'MS_29129_Bridging Software Development and Operations Best Practices in Automated Performance Monitoring.pdf')\n",
    "print(response)"
   ]
  },
  {
   "cell_type": "code",
   "execution_count": null,
   "metadata": {},
   "outputs": [
    {
     "name": "stdout",
     "output_type": "stream",
     "text": [
      "The mode of review in the document is a Double Blind Process.\n",
      "\n",
      "Source Chunks:\n",
      "\n",
      "---\n",
      "Journal of Quantum Science and Technology (JQST) Vol.x | Issue-xxx-xxxx | ISSN: 3048-6351 Online International, Refereed, Peer-Reviewed & Indexed Journal 1 @2024 Published by ResaGate Global. This is an open access article distributed under the terms of the Creative Commons License [ CC BY NC 4.0 ] and is available on www.jqst.org Mode of Review - Double Blind Process Bridging Software Development and Operations: Best Practices in Automated Performance Monitoring ABSTRACT Performance monitoring is a critical component of modern software systems. As organizations increasingly adopt DevOps practices, integrating performance monitoring into the continuous delivery cycle becomes essential. This paper presents an in-depth study of automated performance monitoring within the context of bridging software development and operations. The study reviews current literature, discusses best practices in monitoring techniques, analyzes the integration challenges, and proposes an automated framework designed to ensure timely detection of performance issues across the software lifecycle. A case study approach is used to simulate a performance monitoring scenario in a continuous integration/continuous deployment (CI/CD) pipeline. The findings highlight that early integration of performance monitoring during the development process, alongside automated diagnostic tools, can reduce downtime and promote a culture of continuous improvement. Key challenges and potential solutions are also discussed to provide actionable recommendations for practitioners. Fig.1 Performance monitoring , Source:1\n",
      "\n",
      "---\n",
      "Journal of Quantum Science and Technology (JQST) Vol.x | Issue-xxx-xxxx | ISSN: 3048-6351 Online International, Refereed, Peer-Reviewed & Indexed Journal 3 @2024 Published by ResaGate Global. This is an open access article distributed under the terms of the Creative Commons License [ CC BY NC 4.0 ] and is available on www.jqst.org the rationale and importance of integrating automated performance monitoring in DevOps practices; the literature review covers significant studies and existing frameworks in this area; the methodology section explains the research and simulation approach used to derive key insights; the results section details observations from applying the automated framework in a simulated environment; and finally, the conclusion summarizes the best practices and articulates the scope and limitations of the study. By highlighting actionable insights and providing a detailed case study demonstration, this paper contributes to the ongoing dialogue about creating resilient, scalable, and high-performing systems. Software development teams can use these insights to design systems that automatically monitor, diagnose, and react to performance issues, thereby ensuring a seamless transition from development to operations. LITERATURE REVIEW The evolution of performance monitoring techniques has paralleled the advancements in software development practices. Early techniques predominantly involved manual testing and benchmarking, focusing on isolated metrics such as response time or throughput under controlled conditions. Researchers and practitioners, however, soon recognized that static testing environments could not capture the full spectrum of behaviors in production systems. With the advent of DevOps, the need to embed performance monitoring throughout the software lifecycle has come to the forefront. Historical Perspectives and Evolution Early works in performance engineering primarily investigated performance as an afterthought—a quality assurance measure used to validate whether the application met its stipulated performance targets. Classic studies, such as Jain’s “The Art of Computer Systems Performance Analysis,” laid the groundwork by highlighting systematic approaches to performance testing and analysis. However, these methodologies were not designed to be part of a continuous feedback loop, which is essential for real-time monitoring. With the digital transformation and the adoption of agile development cycles, seminal research began focusing on incorporating continuous performance evaluation mechanisms within CI/CD pipelines. The shift was motivated by the need to detect performance issues during development phases, reducing the time and cost needed for remedial actions. This change has been documented in various studies discussing the integration of automated monitoring tools and performance testing frameworks into DevOps environments. Contemporary Approaches to Automated Performance Monitoring\n",
      "\n",
      "---\n",
      "Journal of Quantum Science and Technology (JQST) Vol.x | Issue-xxx-xxxx | ISSN: 3048-6351 Online International, Refereed, Peer-Reviewed & Indexed Journal 11 @2024 Published by ResaGate Global. This is an open access article distributed under the terms of the Creative Commons License [ CC BY NC 4.0 ] and is available on www.jqst.org • Skill Dependence: Effective interpretation of monitoring data requires a baseline level of expertise. While automation can significantly simplify detection and reporting, the ultimate decision-making and remediation still rely on the skill levels of the operational and development teams.\n"
     ]
    }
   ],
   "source": [
    "## 12. PDF Extractor\n",
    "#Extract and query content from PDF documents using embeddings and semantic search. (Async usage)\n",
    "\n",
    "import asyncio\n",
    "from newberryai import PDFExtractor\n",
    "\n",
    "async def pdf_extract_demo():\n",
    "    extractor = PDFExtractor()\n",
    "    pdf_id = await extractor.process_pdf(r'MS_29129_Bridging Software Development and Operations Best Practices in Automated Performance Monitoring.pdf')\n",
    "    response = await extractor.ask_question(pdf_id, 'What is the mode of review in the document?')\n",
    "    print(response['answer'])\n",
    "    print(\"\\nSource Chunks:\")\n",
    "    for chunk in response['source_chunks']:\n",
    "        print(f\"\\n---\\n{chunk}\")\n",
    "\n",
    "#To run the async demo in a notebook cell:\n",
    "await pdf_extract_demo()\n"
   ]
  },
  {
   "cell_type": "code",
   "execution_count": 1,
   "metadata": {},
   "outputs": [
    {
     "name": "stdout",
     "output_type": "stream",
     "text": [
      "Video generation job started successfully\n",
      "Waiting for video to complete...\n",
      "{'ResponseMetadata': {'RequestId': 'e42a5278-0ae6-4028-a104-4bb39034ed74', 'HTTPStatusCode': 200, 'HTTPHeaders': {'date': 'Fri, 20 Jun 2025 06:14:32 GMT', 'content-type': 'application/json', 'content-length': '437', 'connection': 'keep-alive', 'x-amzn-requestid': 'e42a5278-0ae6-4028-a104-4bb39034ed74'}, 'RetryAttempts': 0}, 'invocationArn': 'arn:aws:bedrock:us-east-1:992382417943:async-invoke/n4gmt6gnhzff', 'modelArn': 'arn:aws:bedrock:us-east-1::foundation-model/amazon.nova-reel-v1:1', 'clientRequestToken': 'ca381b86-10a2-40cb-af90-a478f94eba26', 'status': 'InProgress', 'submitTime': datetime.datetime(2025, 6, 20, 6, 14, 31, tzinfo=tzutc()), 'lastModifiedTime': datetime.datetime(2025, 6, 20, 6, 14, 31, tzinfo=tzutc()), 'outputDataConfig': {'s3OutputDataConfig': {'s3Uri': 's3://bedrock-video-generation-us-east-1-7a0z2a/n4gmt6gnhzff'}}}\n",
      "{'ResponseMetadata': {'RequestId': '865abca9-59ee-4dc1-b868-4680f45700d2', 'HTTPStatusCode': 200, 'HTTPHeaders': {'date': 'Fri, 20 Jun 2025 06:15:22 GMT', 'content-type': 'application/json', 'content-length': '437', 'connection': 'keep-alive', 'x-amzn-requestid': '865abca9-59ee-4dc1-b868-4680f45700d2'}, 'RetryAttempts': 0}, 'invocationArn': 'arn:aws:bedrock:us-east-1:992382417943:async-invoke/n4gmt6gnhzff', 'modelArn': 'arn:aws:bedrock:us-east-1::foundation-model/amazon.nova-reel-v1:1', 'clientRequestToken': 'ca381b86-10a2-40cb-af90-a478f94eba26', 'status': 'InProgress', 'submitTime': datetime.datetime(2025, 6, 20, 6, 14, 31, tzinfo=tzutc()), 'lastModifiedTime': datetime.datetime(2025, 6, 20, 6, 15, 20, tzinfo=tzutc()), 'outputDataConfig': {'s3OutputDataConfig': {'s3Uri': 's3://bedrock-video-generation-us-east-1-7a0z2a/n4gmt6gnhzff'}}}\n",
      "{'ResponseMetadata': {'RequestId': 'ff5a48a0-33e9-4569-9db3-01c1050d2968', 'HTTPStatusCode': 200, 'HTTPHeaders': {'date': 'Fri, 20 Jun 2025 06:16:12 GMT', 'content-type': 'application/json', 'content-length': '437', 'connection': 'keep-alive', 'x-amzn-requestid': 'ff5a48a0-33e9-4569-9db3-01c1050d2968'}, 'RetryAttempts': 0}, 'invocationArn': 'arn:aws:bedrock:us-east-1:992382417943:async-invoke/n4gmt6gnhzff', 'modelArn': 'arn:aws:bedrock:us-east-1::foundation-model/amazon.nova-reel-v1:1', 'clientRequestToken': 'ca381b86-10a2-40cb-af90-a478f94eba26', 'status': 'InProgress', 'submitTime': datetime.datetime(2025, 6, 20, 6, 14, 31, tzinfo=tzutc()), 'lastModifiedTime': datetime.datetime(2025, 6, 20, 6, 15, 20, tzinfo=tzutc()), 'outputDataConfig': {'s3OutputDataConfig': {'s3Uri': 's3://bedrock-video-generation-us-east-1-7a0z2a/n4gmt6gnhzff'}}}\n",
      "{'ResponseMetadata': {'RequestId': '2b5904fc-aca3-4bf1-8e93-70c675f19771', 'HTTPStatusCode': 200, 'HTTPHeaders': {'date': 'Fri, 20 Jun 2025 06:17:03 GMT', 'content-type': 'application/json', 'content-length': '469', 'connection': 'keep-alive', 'x-amzn-requestid': '2b5904fc-aca3-4bf1-8e93-70c675f19771'}, 'RetryAttempts': 0}, 'invocationArn': 'arn:aws:bedrock:us-east-1:992382417943:async-invoke/n4gmt6gnhzff', 'modelArn': 'arn:aws:bedrock:us-east-1::foundation-model/amazon.nova-reel-v1:1', 'clientRequestToken': 'ca381b86-10a2-40cb-af90-a478f94eba26', 'status': 'Completed', 'submitTime': datetime.datetime(2025, 6, 20, 6, 14, 31, tzinfo=tzutc()), 'lastModifiedTime': datetime.datetime(2025, 6, 20, 6, 16, 21, tzinfo=tzutc()), 'endTime': datetime.datetime(2025, 6, 20, 6, 16, 21, tzinfo=tzutc()), 'outputDataConfig': {'s3OutputDataConfig': {'s3Uri': 's3://bedrock-video-generation-us-east-1-7a0z2a/n4gmt6gnhzff'}}}\n",
      "Video generation completed successfully\n",
      "Video URL: https://bedrock-video-generation-us-east-1-7a0z2a.s3.amazonaws.com/n4gmt6gnhzff/output.mp4\n"
     ]
    }
   ],
   "source": [
    "# ## 13. Video Generator\n",
    "# #Generate videos from text using Amazon Bedrock's Nova model. Requires AWS credentials.\n",
    "# # Example usage \n",
    "from newberryai import VideoGenerator\n",
    "generator = VideoGenerator()\n",
    "prompt = \"A cat dancing on a wall\"\n",
    "async def run_video():\n",
    "    response = await generator.generate(\n",
    "        text=prompt,\n",
    "        duration_seconds=6,\n",
    "        fps=24,\n",
    "        dimension=\"1280x720\",\n",
    "        seed=42\n",
    "    )\n",
    "    print(response[\"message\"])\n",
    "    print(\"Waiting for video to complete...\")\n",
    "    final_response = await generator.wait_for_completion(response[\"job_id\"])\n",
    "    print(final_response[\"message\"])\n",
    "    print(f\"Video URL: {final_response['video_url']}\")\n",
    "await run_video()"
   ]
  },
  {
   "cell_type": "code",
   "execution_count": 22,
   "metadata": {},
   "outputs": [
    {
     "name": "stdout",
     "output_type": "stream",
     "text": [
      "Images generated successfully\n",
      "Generated image path: generated_images/88f7b66f-a093-4678-9f2d-080c01b8bec1.png\n"
     ]
    }
   ],
   "source": [
    "from newberryai.image_generator import ImageGenerator\n",
    "import asyncio\n",
    "\n",
    "generator = ImageGenerator()\n",
    "prompt = \"A lotus in a pond\"\n",
    "result = await generator.generate(\n",
    "    text= prompt,\n",
    "    width=512,\n",
    "    height=512,\n",
    "    number_of_images=1,\n",
    "    cfg_scale=8,\n",
    "    seed=42,\n",
    "    quality=\"standard\"\n",
    ")\n",
    "\n",
    "print(result[\"message\"])\n",
    "for path in result[\"images\"]:\n",
    "    print(f\"Generated image path: {path}\")\n"
   ]
  },
  {
   "cell_type": "code",
   "execution_count": 24,
   "metadata": {},
   "outputs": [
    {
     "name": "stdout",
     "output_type": "stream",
     "text": [
      "Face added successfully\n",
      "Face ID: d77bf6fb-eeb7-4845-a5c2-84cd1cc9f986\n",
      "Face recognized\n",
      "Recognized: Vishnu (Confidence: 100.00%)\n"
     ]
    }
   ],
   "source": [
    "## 15. Face Recognition\n",
    "#Add and recognize faces using AWS Rekognition. Requires AWS credentials.\n",
    "from newberryai import FaceRecognition\n",
    "from newberryai.face_recognigation import FaceRequest\n",
    "\n",
    "face_recognition = FaceRecognition()\n",
    "add_response = face_recognition.add_to_collect(\n",
    "    FaceRequest(image_path=\"vishnu.jpg\", name=\"kirti\")\n",
    ")\n",
    "print(add_response.message)\n",
    "if add_response.success:\n",
    "    print(f\"Face ID: {add_response.face_id}\")\n",
    "\n",
    "recognize_response = face_recognition.recognize_image(\n",
    "    FaceRequest(image_path=\"vishnu2.jpg\")\n",
    ")\n",
    "print(recognize_response.message)\n",
    "if recognize_response.success:\n",
    "    print(f\"Recognized: {recognize_response.name} (Confidence: {recognize_response.confidence:.2f}%)\")"
   ]
  },
  {
   "cell_type": "code",
   "execution_count": null,
   "metadata": {},
   "outputs": [],
   "source": [
    "##16. FaceDetection\n",
    "\n",
    "# Import necessary modules\n",
    "from newberryai import FaceDetection\n",
    "from newberryai.face_detection import VideoRequest\n",
    " # Ensure VideoRequest is imported\n",
    "\n",
    "# Initialize FaceDetection object\n",
    "face_detector = FaceDetection()\n",
    "\n",
    "# Add face to collection\n",
    "response = face_detector.add_face_to_collection(r'kirti2.jpeg', 'kirti')\n",
    "\n",
    "if response.success:\n",
    "    print(f'Face added successfully: {response.face_id}')\n",
    "else:\n",
    "    print('Failed to add face to collection')\n",
    "\n",
    "# Process video file for face detection\n",
    "results = face_detector.process_video(VideoRequest(\n",
    "    video_path=r'kirtivideo.mp4',\n",
    "    max_frames=20\n",
    "))\n",
    "\n",
    "# Loop through results and print detected faces\n",
    "for detection in results:\n",
    "    print(f'Timestamp: {detection[\"timestamp\"]}s')\n",
    "    if detection.get('external_image_id'):\n",
    "        print(f'Matched Face: {detection[\"external_image_id\"]}')\n",
    "        print(f'Face ID: {detection[\"face_id\"]}')\n",
    "        print(f'Confidence: {detection[\"confidence\"]:.2f}%')\n",
    "    else:\n",
    "        print('No match found in collection')\n"
   ]
  },
  {
   "cell_type": "code",
   "execution_count": null,
   "metadata": {},
   "outputs": [],
   "source": [
    "##17 NL2SQL\n",
    "#Natural Language to SQL Query Assistant\n",
    "import os\n",
    "from dotenv import load_dotenv\n",
    "from newberryai import NL2SQL, DatabaseConfig, NL2SQLRequest\n",
    "\n",
    "load_dotenv()\n",
    "\n",
    "# Use environment variables or hardcoded values for DB config\n",
    "db_config = DatabaseConfig(\n",
    "    host=os.getenv(\"DB_HOST\", \"127.0.0.1\"),\n",
    "    user=os.getenv(\"DB_USER\", \"root\"),\n",
    "    password=os.getenv(\"DB_PASSWORD\", \"palak@88\"),\n",
    "    database=os.getenv(\"DB_NAME\", \"classicmodels\"),\n",
    "    port=int(os.getenv(\"DB_PORT\", 3306))\n",
    ")\n",
    "\n",
    "nl2sql_processor = NL2SQL()\n",
    "nl2sql_processor.connect_to_database(db_config)\n",
    "\n",
    "request = NL2SQLRequest(\n",
    "    question=\"Show tables\"\n",
    ")\n",
    "response = nl2sql_processor.process_query(request)\n",
    "print(f\"Generated SQL: {response.generated_sql}\")\n",
    "print(f\"Data: {response.data}\")\n",
    "print(f\"Summary: {response.summary}\")"
   ]
  },
  {
   "cell_type": "code",
   "execution_count": null,
   "metadata": {},
   "outputs": [],
   "source": [
    "## 18. Virtual Try-On\n",
    "# Generate virtual try-on images using AI. Requires Fashn API credentials.\n",
    "import base64\n",
    "import asyncio\n",
    "from newberryai import VirtualTryOn\n",
    "\n",
    "try_on = VirtualTryOn()\n",
    "with open(r'C:\\Users\\ihars\\Downloads\\newberrayai-sdk\\newberryai\\vishnu.jpg 16-03-21-405.jpg', 'rb') as f:\n",
    "    model_b64 = base64.b64encode(f.read()).decode()\n",
    "with open(r'C:\\Users\\ihars\\Downloads\\newberrayai-sdk\\newberryai\\image (1).png', 'rb') as f:\n",
    "    garment_b64 = base64.b64encode(f.read()).decode()\n",
    "request = try_on.TryOnRequest(\n",
    "    model_image=model_b64,\n",
    "    garment_image=garment_b64,\n",
    "    category='tops'\n",
    ")\n",
    "async def tryon_demo():\n",
    "    response = await try_on.process(request)\n",
    "    while True:\n",
    "        status = await try_on.get_status(response.job_id)\n",
    "        if status.status in ['completed', 'failed']:\n",
    "            break\n",
    "        await asyncio.sleep(3)\n",
    "    if status.status == 'completed' and status.output:\n",
    "        print('Generated images:')\n",
    "        for url in status.output:\n",
    "            print(url)\n",
    "# To run the async demo in a notebook cell:\n",
    "# await tryon_demo()"
   ]
  }
 ],
 "metadata": {
  "kernelspec": {
   "display_name": ".venv",
   "language": "python",
   "name": "python3"
  },
  "language_info": {
   "codemirror_mode": {
    "name": "ipython",
    "version": 3
   },
   "file_extension": ".py",
   "mimetype": "text/x-python",
   "name": "python",
   "nbconvert_exporter": "python",
   "pygments_lexer": "ipython3",
   "version": "3.13.3"
  }
 },
 "nbformat": 4,
 "nbformat_minor": 2
}
