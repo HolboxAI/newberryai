{
 "cells": [
  {
   "cell_type": "code",
   "execution_count": 94,
   "metadata": {},
   "outputs": [],
   "source": [
    "# NewberryAI SDK: All Features Demo\n"
   ]
  },
  {
   "cell_type": "code",
   "execution_count": 95,
   "metadata": {},
   "outputs": [],
   "source": [
    "import os\n",
    "\n",
    "#Your aws credentials here \n"
   ]
  },
  {
   "cell_type": "code",
   "execution_count": 96,
   "metadata": {},
   "outputs": [
    {
     "name": "stdout",
     "output_type": "stream",
     "text": [
      "Defaulting to user installation because normal site-packages is not writeable\n",
      "Requirement already satisfied: boto3 in c:\\users\\ihars\\appdata\\roaming\\python\\python312\\site-packages (1.38.39)\n",
      "Requirement already satisfied: botocore in c:\\users\\ihars\\appdata\\roaming\\python\\python312\\site-packages (1.38.39)\n",
      "Requirement already satisfied: jmespath<2.0.0,>=0.7.1 in c:\\users\\ihars\\appdata\\roaming\\python\\python312\\site-packages (from boto3) (1.0.1)\n",
      "Requirement already satisfied: s3transfer<0.14.0,>=0.13.0 in c:\\users\\ihars\\appdata\\roaming\\python\\python312\\site-packages (from boto3) (0.13.0)\n",
      "Requirement already satisfied: python-dateutil<3.0.0,>=2.1 in c:\\users\\ihars\\appdata\\roaming\\python\\python312\\site-packages (from botocore) (2.8.2)\n",
      "Requirement already satisfied: urllib3!=2.2.0,<3,>=1.25.4 in c:\\users\\ihars\\appdata\\roaming\\python\\python312\\site-packages (from botocore) (2.4.0)\n",
      "Requirement already satisfied: six>=1.5 in c:\\users\\ihars\\appdata\\roaming\\python\\python312\\site-packages (from python-dateutil<3.0.0,>=2.1->botocore) (1.17.0)\n"
     ]
    },
    {
     "name": "stderr",
     "output_type": "stream",
     "text": [
      "WARNING: Ignoring invalid distribution ~andas (C:\\Users\\ihars\\AppData\\Roaming\\Python\\Python312\\site-packages)\n",
      "WARNING: Ignoring invalid distribution ~andas (C:\\Users\\ihars\\AppData\\Roaming\\Python\\Python312\\site-packages)\n",
      "WARNING: Ignoring invalid distribution ~andas (C:\\Users\\ihars\\AppData\\Roaming\\Python\\Python312\\site-packages)\n"
     ]
    }
   ],
   "source": [
    "# Install the SDK if not already installed\n",
    "! pip install -e .\n",
    "! pip install --upgrade boto3 botocore"
   ]
  },
  {
   "cell_type": "code",
   "execution_count": 98,
   "metadata": {},
   "outputs": [],
   "source": [
    "# ## 1. Compliance Checker\n",
    "# #Analyze videos for regulatory compliance. Requires AWS credentials.\n",
    "# from newberryai import ComplianceChecker\n",
    "\n",
    "# checker = ComplianceChecker()\n",
    "# video_file = '/path/to/video.mp4'  # Replace with your video file\n",
    "# compliance_question = 'Is the video compliant with safety regulations such as mask?'\n",
    "\n",
    "# result, status_code = checker.check_compliance(\n",
    "#     video_file=video_file,\n",
    "#     question=compliance_question\n",
    "# )\n",
    "# if status_code:\n",
    "#     print(f'Error: {result.get(\"error\", \"Unknown error\")}')\n",
    "# else:\n",
    "#     print(f'Compliant: {\"Yes\" if result[\"compliant\"] else \"No\"}')\n",
    "#     print(f'Analysis: {result[\"analysis\"]}')"
   ]
  },
  {
   "cell_type": "code",
   "execution_count": 99,
   "metadata": {},
   "outputs": [],
   "source": [
    "## 2. HealthScribe\n",
    "#Medical transcription using AWS HealthScribe. Requires AWS credentials.\n",
    "# import os\n",
    "# from newberryai import HealthScribe\n",
    "# scribe = HealthScribe(\n",
    "#     input_s3_bucket='input-bucket',\n",
    "#     data_access_role_arn='arn:aws:iam::12345678912:role/your_role'\n",
    "# )\n",
    "# result = scribe.process(\n",
    "#     file_path='/path/to/audio_file.mp3',\n",
    "#     job_name='test_job_1',\n",
    "#     output_s3_bucket='output-bucket'\n",
    "# )\n",
    "# print(result.summary)"
   ]
  },
  {
   "cell_type": "code",
   "execution_count": 100,
   "metadata": {},
   "outputs": [
    {
     "name": "stderr",
     "output_type": "stream",
     "text": [
      "2025-06-19 11:37:56,640 - botocore.credentials - INFO - Found credentials in environment variables.\n"
     ]
    },
    {
     "name": "stdout",
     "output_type": "stream",
     "text": [
      "Thank you for providing the patient's presenting symptoms. I'll generate a differential diagnosis based on this information, but please note that additional details would help refine this list further. Let's proceed with the information available:\n",
      "\n",
      "1. **Summary of Patient Presentation**:\n",
      "   - Fever\n",
      "   - Cough\n",
      "   - Fatigue\n",
      "   - Duration: 5 days\n",
      "\n",
      "2. **Differential Diagnosis**:\n",
      "\n",
      "a) Respiratory Infections:\n",
      "   - Viral upper respiratory infection (URI)\n",
      "   - Community-acquired pneumonia\n",
      "   - COVID-19\n",
      "   - Influenza\n",
      "   - Acute bronchitis\n",
      "\n",
      "b) Other Infectious Causes:\n",
      "   - Tuberculosis (less likely given the short duration, but possible)\n",
      "   - Infectious mononucleosis\n",
      "\n",
      "c) Non-Infectious Causes:\n",
      "   - Exacerbation of chronic lung disease (e.g., COPD, asthma)\n",
      "   - Atypical presentations of other systemic diseases\n",
      "\n",
      "3. **Discussion of Top Considerations**:\n",
      "\n",
      "a) Viral Upper Respiratory Infection:\n",
      "   - Most common cause of these symptoms\n",
      "   - Typically self-limiting within 7-10 days\n",
      "   - Fever and fatigue are common, especially early in the course\n",
      "\n",
      "b) Community-acquired Pneumonia:\n",
      "   - Can present with fever, cough, and fatigue\n",
      "   - May have more severe symptoms or respiratory distress\n",
      "   - Often accompanied by chest pain or shortness of breath (not mentioned in this case)\n",
      "\n",
      "c) COVID-19:\n",
      "   - Given the ongoing pandemic, this should be considered\n",
      "   - Presents with fever, cough, and fatigue as common symptoms\n",
      "   - Can range from mild to severe\n",
      "\n",
      "d) Influenza:\n",
      "   - Seasonal consideration (depending on the time of year)\n",
      "   - Often presents with more sudden onset and more severe systemic symptoms\n",
      "\n",
      "4. **Suggested Diagnostic Approach**:\n",
      "\n",
      "1. Detailed history and physical examination, including:\n",
      "   - Character and productivity of cough\n",
      "   - Presence of other symptoms (e.g., sore throat, runny nose, shortness of breath)\n",
      "   - Travel history, exposure to sick contacts\n",
      "   - Vaccination status (particularly for influenza and COVID-19)\n",
      "\n",
      "2. Vital signs, including oxygen saturation\n",
      "\n",
      "3. Consider point-of-care testing:\n",
      "   - Rapid influenza test\n",
      "   - COVID-19 PCR test\n",
      "\n",
      "4. If symptoms are severe or patient is at high risk:\n",
      "   - Chest X-ray to evaluate for pneumonia\n",
      "   - Complete blood count (CBC) to assess for leukocytosis or lymphocytosis\n",
      "   - Basic metabolic panel\n",
      "\n",
      "5. If mononucleosis is suspected:\n",
      "   - Monospot test or EBV serology\n",
      "\n",
      "6. Sputum culture if productive cough is present and bacterial infection is suspected\n",
      "\n",
      "5. **Disclaimer**:\n",
      "This differential diagnosis is generated to assist clinical reasoning but is not a substitute for professional medical judgment. The suggestions provided should be verified and interpreted by qualified healthcare professionals in the context of the specific patient scenario. The differential diagnosis generated is based solely on the information provided and may change significantly with additional clinical details. This tool does not provide definitive medical advice, diagnosis, or treatment recommendations. In case of medical emergency, contact emergency services immediately.\n",
      "\n",
      "Additional patient information such as age, medical history, and specific risk factors would allow for a more tailored differential diagnosis. Please provide any additional details that might help refine this assessment.\n"
     ]
    }
   ],
   "source": [
    "## 3. Differential Diagnosis (DDx) Assistant\n",
    "#Get assistance with clinical diagnosis.\n",
    "from newberryai import DDxChat\n",
    "\n",
    "ddx_chat = DDxChat()\n",
    "response = ddx_chat.ask('Patient presents with fever, cough, and fatigue for 5 days')\n",
    "print(response)\n"
   ]
  },
  {
   "cell_type": "code",
   "execution_count": 101,
   "metadata": {},
   "outputs": [
    {
     "name": "stderr",
     "output_type": "stream",
     "text": [
      "2025-06-19 11:38:18,219 - botocore.credentials - INFO - Found credentials in environment variables.\n"
     ]
    },
    {
     "name": "stdout",
     "output_type": "stream",
     "text": [
      "Certainly! I'll provide you with an Excel formula to calculate the average sales for the years 2010 and 2011 based on the information you've given. Here's the formula:\n",
      "\n",
      "=AVERAGEIFS(A:A, B:B, \"2010\", B:B, \"2011\")\n",
      "\n",
      "Let's break down this formula and explain its components:\n",
      "\n",
      "1. AVERAGEIFS: This is an advanced function in Excel that calculates the average of cells that meet multiple criteria.\n",
      "\n",
      "2. A:A: This is the range where your sales data is located (Column A).\n",
      "\n",
      "3. B:B: This is the range where your year data is located (Column B).\n",
      "\n",
      "4. \"2010\" and \"2011\": These are the criteria for the years we want to include in our average calculation.\n",
      "\n",
      "How it works:\n",
      "The AVERAGEIFS function will look at each cell in column A (sales data) and only include it in the average if the corresponding cell in column B (year data) contains either \"2010\" or \"2011\".\n",
      "\n",
      "Additional notes:\n",
      "1. This formula assumes that your data is organized with sales in Column A, years in Column B, and months in Column C (although the month information isn't used in this particular formula).\n",
      "\n",
      "2. The formula uses entire column references (A:A and B:B). If your data doesn't start at the top of the sheet, you might want to adjust these ranges to be more specific, like A2:A1000 and B2:B1000, assuming your data starts in row 2 and goes to row 1000.\n",
      "\n",
      "3. If you want to calculate the average for each year separately, you could use these formulas:\n",
      "   For 2010: =AVERAGEIF(B:B, \"2010\", A:A)\n",
      "   For 2011: =AVERAGEIF(B:B, \"2011\", A:A)\n",
      "\n",
      "4. Make sure your year data in Column B is formatted as text or as a number without decimals. If it's formatted as a date, you might need to adjust the criteria in the formula.\n",
      "\n",
      "5. If you need to include the month information in your calculations or add more complex criteria, please let me know, and I can provide a more advanced formula to suit your needs.\n"
     ]
    }
   ],
   "source": [
    "## 4. Excel Formula Generator AI Assistant\n",
    "#Get assistance with Excel formulas.\n",
    "from newberryai import ExcelExp\n",
    "\n",
    "excel_expert = ExcelExp()\n",
    "response = excel_expert.ask(\n",
    "    \"Calculate average sales for products that meet specific criteria E.g: give me excel formula to calculate average of my sale for year 2010,2011 sales is in col A, Year in Col B  and Months in Col C\"\n",
    ")\n",
    "print(response)"
   ]
  },
  {
   "cell_type": "code",
   "execution_count": 102,
   "metadata": {},
   "outputs": [
    {
     "name": "stderr",
     "output_type": "stream",
     "text": [
      "2025-06-19 11:38:34,472 - botocore.credentials - INFO - Found credentials in environment variables.\n"
     ]
    },
    {
     "name": "stdout",
     "output_type": "stream",
     "text": [
      "Error processing file '/path/to/medical_bill.jpeg': [Errno 2] No such file or directory: '/path/to/medical_bill.jpeg'\n"
     ]
    }
   ],
   "source": [
    "## 5. Medical Bill Extractor\n",
    "#Extract and analyze data from medical bills.\n",
    "from newberryai import Bill_extractor\n",
    "\n",
    "extractor = Bill_extractor()\n",
    "analysis = extractor.analyze_document('/path/to/medical_bill.jpeg')\n",
    "print(analysis)"
   ]
  },
  {
   "cell_type": "code",
   "execution_count": 103,
   "metadata": {},
   "outputs": [
    {
     "name": "stderr",
     "output_type": "stream",
     "text": [
      "2025-06-19 11:38:34,631 - botocore.credentials - INFO - Found credentials in environment variables.\n"
     ]
    },
    {
     "name": "stdout",
     "output_type": "stream",
     "text": [
      "I'll explain the issues in the code and provide a corrected version:\n",
      "\n",
      "Issues in the original code:\n",
      "\n",
      "1. Indentation: The function body is not properly indented, which will cause a syntax error in Python.\n",
      "2. Variable naming: Using 'sum' as a variable name shadows the built-in 'sum()' function.\n",
      "3. Potential division by zero: If an empty list is passed to the function, it will raise a ZeroDivisionError.\n",
      "4. Typo in variable name: 'results' is used instead of 'result' in the print statement.\n",
      "\n",
      "Here's the corrected code with explanations:\n",
      "\n",
      "```python\n",
      "def calculate_average(nums):\n",
      "    if not nums:  # Check if the list is empty\n",
      "        return None  # Return None for empty lists\n",
      "    \n",
      "    total = sum(nums)  # Use built-in sum() function\n",
      "    average = total / len(nums)\n",
      "    return average\n",
      "\n",
      "numbers = [10, 20, 30, 40, 50]\n",
      "result = calculate_average(numbers)\n",
      "\n",
      "if result is not None:\n",
      "    print(\"The average is:\", result)\n",
      "else:\n",
      "    print(\"Cannot calculate average of an empty list\")\n",
      "```\n",
      "\n",
      "Explanations of the corrections:\n",
      "\n",
      "1. Proper indentation: The function body is now correctly indented.\n",
      "\n",
      "2. Variable naming: Changed 'sum' to 'total' to avoid shadowing the built-in 'sum()' function.\n",
      "\n",
      "3. Empty list handling: Added a check for empty lists to prevent division by zero. If the list is empty, the function returns None.\n",
      "\n",
      "4. Using built-in sum(): Replaced the manual sum calculation with the more efficient built-in 'sum()' function.\n",
      "\n",
      "5. Typo fix: Corrected 'results' to 'result' in the print statement.\n",
      "\n",
      "6. Error handling: Added a check to handle the case when the result is None (for empty lists).\n",
      "\n",
      "These changes make the code more robust, efficient, and less prone to errors. The function now handles edge cases (like empty lists) gracefully and uses Python's built-in functions for better performance.\n"
     ]
    }
   ],
   "source": [
    "## 6. Coding and Debugging AI Assistant\n",
    "#Analyze code and help you with coding as debugger.\n",
    "from newberryai import CodeReviewAssistant\n",
    "\n",
    "code_debugger = CodeReviewAssistant()\n",
    "response = code_debugger.ask('''Explain and correct below code\n",
    "def calculate_average(nums):\n",
    "sum = 0\n",
    "for num in nums:\n",
    "sum += num\n",
    "average = sum / len(nums)\n",
    "return average\n",
    "\n",
    "numbers = [10, 20, 30, 40, 50]\n",
    "result = calculate_average(numbers)\n",
    "print(\"The average is:\", results)''')\n",
    "print(response)"
   ]
  },
  {
   "cell_type": "code",
   "execution_count": 104,
   "metadata": {},
   "outputs": [],
   "source": [
    "## 7. Speech-to-Speech Assistant\n",
    "#Real-time voice interactive assistant.\n",
    "# from newberryai import RealtimeApp\n",
    "\n",
    "# app = RealtimeApp()\n",
    "# app.run()  # This will launch the real-time app (may block the notebook)"
   ]
  },
  {
   "cell_type": "code",
   "execution_count": 105,
   "metadata": {},
   "outputs": [
    {
     "name": "stderr",
     "output_type": "stream",
     "text": [
      "2025-06-19 11:38:47,604 - botocore.credentials - INFO - Found credentials in environment variables.\n"
     ]
    },
    {
     "name": "stdout",
     "output_type": "stream",
     "text": [
      "Here is the text with PII redacted:\n",
      "\n",
      "Patient name is [FirstName] [LastName] with fever. He is from [City], [State]. His email id is [EmailAddress]\n"
     ]
    }
   ],
   "source": [
    "## 8. PII Redactor AI Assistant\n",
    "#Analyze text and remove PII (personally identifiable information) from the text.\n",
    "from newberryai import PII_Redaction\n",
    "\n",
    "pii_red = PII_Redaction()\n",
    "response = pii_red.ask(\"Patient name is John Doe with fever. he is from Austin,Texas.His email id is john.doe14@email.com\")\n",
    "print(response)"
   ]
  },
  {
   "cell_type": "code",
   "execution_count": 106,
   "metadata": {},
   "outputs": [
    {
     "name": "stderr",
     "output_type": "stream",
     "text": [
      "2025-06-19 11:38:50,207 - botocore.credentials - INFO - Found credentials in environment variables.\n"
     ]
    },
    {
     "name": "stdout",
     "output_type": "stream",
     "text": [
      "Here's the extracted PII in JSON format:\n",
      "\n",
      "```json\n",
      "{\n",
      "  \"Name\": \"John Doe\",\n",
      "  \"Location\": \"Austin, Texas\",\n",
      "  \"Email\": \"john.doe14@email.com\"\n",
      "}\n",
      "```\n"
     ]
    }
   ],
   "source": [
    "## 9. PII Extractor AI Assistant\n",
    "#Analyze text and extract PII (personally identifiable information) from the text.\n",
    "from newberryai import PII_extraction\n",
    "\n",
    "pii_extract = PII_extraction()\n",
    "response = pii_extract.ask(\"Patient name is John Doe with fever. he is from Austin,Texas.His email id is john.doe14@email.com\")\n",
    "print(response)"
   ]
  },
  {
   "cell_type": "code",
   "execution_count": 107,
   "metadata": {},
   "outputs": [
    {
     "name": "stderr",
     "output_type": "stream",
     "text": [
      "2025-06-19 11:38:53,325 - botocore.credentials - INFO - Found credentials in environment variables.\n"
     ]
    },
    {
     "ename": "FileNotFoundError",
     "evalue": "[Errno 2] No such file or directory: 'heart.csv'",
     "output_type": "error",
     "traceback": [
      "\u001b[31m---------------------------------------------------------------------------\u001b[39m",
      "\u001b[31mFileNotFoundError\u001b[39m                         Traceback (most recent call last)",
      "\u001b[36mCell\u001b[39m\u001b[36m \u001b[39m\u001b[32mIn[107]\u001b[39m\u001b[32m, line 7\u001b[39m\n\u001b[32m      4\u001b[39m \u001b[38;5;28;01mimport\u001b[39;00m\u001b[38;5;250m \u001b[39m\u001b[34;01mpandas\u001b[39;00m\u001b[38;5;250m \u001b[39m\u001b[38;5;28;01mas\u001b[39;00m\u001b[38;5;250m \u001b[39m\u001b[34;01mpd\u001b[39;00m\n\u001b[32m      6\u001b[39m eda = EDA()\n\u001b[32m----> \u001b[39m\u001b[32m7\u001b[39m eda.current_data = \u001b[43mpd\u001b[49m\u001b[43m.\u001b[49m\u001b[43mread_csv\u001b[49m\u001b[43m(\u001b[49m\u001b[33;43m'\u001b[39;49m\u001b[33;43mheart.csv\u001b[39;49m\u001b[33;43m'\u001b[39;49m\u001b[43m)\u001b[49m\n\u001b[32m      8\u001b[39m response = eda.ask(\u001b[33m\"\u001b[39m\u001b[33mWhat is the average value of column \u001b[39m\u001b[33m'\u001b[39m\u001b[33mSales\u001b[39m\u001b[33m'\u001b[39m\u001b[33m?\u001b[39m\u001b[33m\"\u001b[39m)\n\u001b[32m      9\u001b[39m \u001b[38;5;28mprint\u001b[39m(response)\n",
      "\u001b[36mFile \u001b[39m\u001b[32m~\\AppData\\Roaming\\Python\\Python312\\site-packages\\pandas\\io\\parsers\\readers.py:1026\u001b[39m, in \u001b[36mread_csv\u001b[39m\u001b[34m(filepath_or_buffer, sep, delimiter, header, names, index_col, usecols, dtype, engine, converters, true_values, false_values, skipinitialspace, skiprows, skipfooter, nrows, na_values, keep_default_na, na_filter, verbose, skip_blank_lines, parse_dates, infer_datetime_format, keep_date_col, date_parser, date_format, dayfirst, cache_dates, iterator, chunksize, compression, thousands, decimal, lineterminator, quotechar, quoting, doublequote, escapechar, comment, encoding, encoding_errors, dialect, on_bad_lines, delim_whitespace, low_memory, memory_map, float_precision, storage_options, dtype_backend)\u001b[39m\n\u001b[32m   1013\u001b[39m kwds_defaults = _refine_defaults_read(\n\u001b[32m   1014\u001b[39m     dialect,\n\u001b[32m   1015\u001b[39m     delimiter,\n\u001b[32m   (...)\u001b[39m\u001b[32m   1022\u001b[39m     dtype_backend=dtype_backend,\n\u001b[32m   1023\u001b[39m )\n\u001b[32m   1024\u001b[39m kwds.update(kwds_defaults)\n\u001b[32m-> \u001b[39m\u001b[32m1026\u001b[39m \u001b[38;5;28;01mreturn\u001b[39;00m \u001b[43m_read\u001b[49m\u001b[43m(\u001b[49m\u001b[43mfilepath_or_buffer\u001b[49m\u001b[43m,\u001b[49m\u001b[43m \u001b[49m\u001b[43mkwds\u001b[49m\u001b[43m)\u001b[49m\n",
      "\u001b[36mFile \u001b[39m\u001b[32m~\\AppData\\Roaming\\Python\\Python312\\site-packages\\pandas\\io\\parsers\\readers.py:620\u001b[39m, in \u001b[36m_read\u001b[39m\u001b[34m(filepath_or_buffer, kwds)\u001b[39m\n\u001b[32m    617\u001b[39m _validate_names(kwds.get(\u001b[33m\"\u001b[39m\u001b[33mnames\u001b[39m\u001b[33m\"\u001b[39m, \u001b[38;5;28;01mNone\u001b[39;00m))\n\u001b[32m    619\u001b[39m \u001b[38;5;66;03m# Create the parser.\u001b[39;00m\n\u001b[32m--> \u001b[39m\u001b[32m620\u001b[39m parser = \u001b[43mTextFileReader\u001b[49m\u001b[43m(\u001b[49m\u001b[43mfilepath_or_buffer\u001b[49m\u001b[43m,\u001b[49m\u001b[43m \u001b[49m\u001b[43m*\u001b[49m\u001b[43m*\u001b[49m\u001b[43mkwds\u001b[49m\u001b[43m)\u001b[49m\n\u001b[32m    622\u001b[39m \u001b[38;5;28;01mif\u001b[39;00m chunksize \u001b[38;5;129;01mor\u001b[39;00m iterator:\n\u001b[32m    623\u001b[39m     \u001b[38;5;28;01mreturn\u001b[39;00m parser\n",
      "\u001b[36mFile \u001b[39m\u001b[32m~\\AppData\\Roaming\\Python\\Python312\\site-packages\\pandas\\io\\parsers\\readers.py:1620\u001b[39m, in \u001b[36mTextFileReader.__init__\u001b[39m\u001b[34m(self, f, engine, **kwds)\u001b[39m\n\u001b[32m   1617\u001b[39m     \u001b[38;5;28mself\u001b[39m.options[\u001b[33m\"\u001b[39m\u001b[33mhas_index_names\u001b[39m\u001b[33m\"\u001b[39m] = kwds[\u001b[33m\"\u001b[39m\u001b[33mhas_index_names\u001b[39m\u001b[33m\"\u001b[39m]\n\u001b[32m   1619\u001b[39m \u001b[38;5;28mself\u001b[39m.handles: IOHandles | \u001b[38;5;28;01mNone\u001b[39;00m = \u001b[38;5;28;01mNone\u001b[39;00m\n\u001b[32m-> \u001b[39m\u001b[32m1620\u001b[39m \u001b[38;5;28mself\u001b[39m._engine = \u001b[38;5;28;43mself\u001b[39;49m\u001b[43m.\u001b[49m\u001b[43m_make_engine\u001b[49m\u001b[43m(\u001b[49m\u001b[43mf\u001b[49m\u001b[43m,\u001b[49m\u001b[43m \u001b[49m\u001b[38;5;28;43mself\u001b[39;49m\u001b[43m.\u001b[49m\u001b[43mengine\u001b[49m\u001b[43m)\u001b[49m\n",
      "\u001b[36mFile \u001b[39m\u001b[32m~\\AppData\\Roaming\\Python\\Python312\\site-packages\\pandas\\io\\parsers\\readers.py:1880\u001b[39m, in \u001b[36mTextFileReader._make_engine\u001b[39m\u001b[34m(self, f, engine)\u001b[39m\n\u001b[32m   1878\u001b[39m     \u001b[38;5;28;01mif\u001b[39;00m \u001b[33m\"\u001b[39m\u001b[33mb\u001b[39m\u001b[33m\"\u001b[39m \u001b[38;5;129;01mnot\u001b[39;00m \u001b[38;5;129;01min\u001b[39;00m mode:\n\u001b[32m   1879\u001b[39m         mode += \u001b[33m\"\u001b[39m\u001b[33mb\u001b[39m\u001b[33m\"\u001b[39m\n\u001b[32m-> \u001b[39m\u001b[32m1880\u001b[39m \u001b[38;5;28mself\u001b[39m.handles = \u001b[43mget_handle\u001b[49m\u001b[43m(\u001b[49m\n\u001b[32m   1881\u001b[39m \u001b[43m    \u001b[49m\u001b[43mf\u001b[49m\u001b[43m,\u001b[49m\n\u001b[32m   1882\u001b[39m \u001b[43m    \u001b[49m\u001b[43mmode\u001b[49m\u001b[43m,\u001b[49m\n\u001b[32m   1883\u001b[39m \u001b[43m    \u001b[49m\u001b[43mencoding\u001b[49m\u001b[43m=\u001b[49m\u001b[38;5;28;43mself\u001b[39;49m\u001b[43m.\u001b[49m\u001b[43moptions\u001b[49m\u001b[43m.\u001b[49m\u001b[43mget\u001b[49m\u001b[43m(\u001b[49m\u001b[33;43m\"\u001b[39;49m\u001b[33;43mencoding\u001b[39;49m\u001b[33;43m\"\u001b[39;49m\u001b[43m,\u001b[49m\u001b[43m \u001b[49m\u001b[38;5;28;43;01mNone\u001b[39;49;00m\u001b[43m)\u001b[49m\u001b[43m,\u001b[49m\n\u001b[32m   1884\u001b[39m \u001b[43m    \u001b[49m\u001b[43mcompression\u001b[49m\u001b[43m=\u001b[49m\u001b[38;5;28;43mself\u001b[39;49m\u001b[43m.\u001b[49m\u001b[43moptions\u001b[49m\u001b[43m.\u001b[49m\u001b[43mget\u001b[49m\u001b[43m(\u001b[49m\u001b[33;43m\"\u001b[39;49m\u001b[33;43mcompression\u001b[39;49m\u001b[33;43m\"\u001b[39;49m\u001b[43m,\u001b[49m\u001b[43m \u001b[49m\u001b[38;5;28;43;01mNone\u001b[39;49;00m\u001b[43m)\u001b[49m\u001b[43m,\u001b[49m\n\u001b[32m   1885\u001b[39m \u001b[43m    \u001b[49m\u001b[43mmemory_map\u001b[49m\u001b[43m=\u001b[49m\u001b[38;5;28;43mself\u001b[39;49m\u001b[43m.\u001b[49m\u001b[43moptions\u001b[49m\u001b[43m.\u001b[49m\u001b[43mget\u001b[49m\u001b[43m(\u001b[49m\u001b[33;43m\"\u001b[39;49m\u001b[33;43mmemory_map\u001b[39;49m\u001b[33;43m\"\u001b[39;49m\u001b[43m,\u001b[49m\u001b[43m \u001b[49m\u001b[38;5;28;43;01mFalse\u001b[39;49;00m\u001b[43m)\u001b[49m\u001b[43m,\u001b[49m\n\u001b[32m   1886\u001b[39m \u001b[43m    \u001b[49m\u001b[43mis_text\u001b[49m\u001b[43m=\u001b[49m\u001b[43mis_text\u001b[49m\u001b[43m,\u001b[49m\n\u001b[32m   1887\u001b[39m \u001b[43m    \u001b[49m\u001b[43merrors\u001b[49m\u001b[43m=\u001b[49m\u001b[38;5;28;43mself\u001b[39;49m\u001b[43m.\u001b[49m\u001b[43moptions\u001b[49m\u001b[43m.\u001b[49m\u001b[43mget\u001b[49m\u001b[43m(\u001b[49m\u001b[33;43m\"\u001b[39;49m\u001b[33;43mencoding_errors\u001b[39;49m\u001b[33;43m\"\u001b[39;49m\u001b[43m,\u001b[49m\u001b[43m \u001b[49m\u001b[33;43m\"\u001b[39;49m\u001b[33;43mstrict\u001b[39;49m\u001b[33;43m\"\u001b[39;49m\u001b[43m)\u001b[49m\u001b[43m,\u001b[49m\n\u001b[32m   1888\u001b[39m \u001b[43m    \u001b[49m\u001b[43mstorage_options\u001b[49m\u001b[43m=\u001b[49m\u001b[38;5;28;43mself\u001b[39;49m\u001b[43m.\u001b[49m\u001b[43moptions\u001b[49m\u001b[43m.\u001b[49m\u001b[43mget\u001b[49m\u001b[43m(\u001b[49m\u001b[33;43m\"\u001b[39;49m\u001b[33;43mstorage_options\u001b[39;49m\u001b[33;43m\"\u001b[39;49m\u001b[43m,\u001b[49m\u001b[43m \u001b[49m\u001b[38;5;28;43;01mNone\u001b[39;49;00m\u001b[43m)\u001b[49m\u001b[43m,\u001b[49m\n\u001b[32m   1889\u001b[39m \u001b[43m\u001b[49m\u001b[43m)\u001b[49m\n\u001b[32m   1890\u001b[39m \u001b[38;5;28;01massert\u001b[39;00m \u001b[38;5;28mself\u001b[39m.handles \u001b[38;5;129;01mis\u001b[39;00m \u001b[38;5;129;01mnot\u001b[39;00m \u001b[38;5;28;01mNone\u001b[39;00m\n\u001b[32m   1891\u001b[39m f = \u001b[38;5;28mself\u001b[39m.handles.handle\n",
      "\u001b[36mFile \u001b[39m\u001b[32m~\\AppData\\Roaming\\Python\\Python312\\site-packages\\pandas\\io\\common.py:873\u001b[39m, in \u001b[36mget_handle\u001b[39m\u001b[34m(path_or_buf, mode, encoding, compression, memory_map, is_text, errors, storage_options)\u001b[39m\n\u001b[32m    868\u001b[39m \u001b[38;5;28;01melif\u001b[39;00m \u001b[38;5;28misinstance\u001b[39m(handle, \u001b[38;5;28mstr\u001b[39m):\n\u001b[32m    869\u001b[39m     \u001b[38;5;66;03m# Check whether the filename is to be opened in binary mode.\u001b[39;00m\n\u001b[32m    870\u001b[39m     \u001b[38;5;66;03m# Binary mode does not support 'encoding' and 'newline'.\u001b[39;00m\n\u001b[32m    871\u001b[39m     \u001b[38;5;28;01mif\u001b[39;00m ioargs.encoding \u001b[38;5;129;01mand\u001b[39;00m \u001b[33m\"\u001b[39m\u001b[33mb\u001b[39m\u001b[33m\"\u001b[39m \u001b[38;5;129;01mnot\u001b[39;00m \u001b[38;5;129;01min\u001b[39;00m ioargs.mode:\n\u001b[32m    872\u001b[39m         \u001b[38;5;66;03m# Encoding\u001b[39;00m\n\u001b[32m--> \u001b[39m\u001b[32m873\u001b[39m         handle = \u001b[38;5;28;43mopen\u001b[39;49m\u001b[43m(\u001b[49m\n\u001b[32m    874\u001b[39m \u001b[43m            \u001b[49m\u001b[43mhandle\u001b[49m\u001b[43m,\u001b[49m\n\u001b[32m    875\u001b[39m \u001b[43m            \u001b[49m\u001b[43mioargs\u001b[49m\u001b[43m.\u001b[49m\u001b[43mmode\u001b[49m\u001b[43m,\u001b[49m\n\u001b[32m    876\u001b[39m \u001b[43m            \u001b[49m\u001b[43mencoding\u001b[49m\u001b[43m=\u001b[49m\u001b[43mioargs\u001b[49m\u001b[43m.\u001b[49m\u001b[43mencoding\u001b[49m\u001b[43m,\u001b[49m\n\u001b[32m    877\u001b[39m \u001b[43m            \u001b[49m\u001b[43merrors\u001b[49m\u001b[43m=\u001b[49m\u001b[43merrors\u001b[49m\u001b[43m,\u001b[49m\n\u001b[32m    878\u001b[39m \u001b[43m            \u001b[49m\u001b[43mnewline\u001b[49m\u001b[43m=\u001b[49m\u001b[33;43m\"\u001b[39;49m\u001b[33;43m\"\u001b[39;49m\u001b[43m,\u001b[49m\n\u001b[32m    879\u001b[39m \u001b[43m        \u001b[49m\u001b[43m)\u001b[49m\n\u001b[32m    880\u001b[39m     \u001b[38;5;28;01melse\u001b[39;00m:\n\u001b[32m    881\u001b[39m         \u001b[38;5;66;03m# Binary mode\u001b[39;00m\n\u001b[32m    882\u001b[39m         handle = \u001b[38;5;28mopen\u001b[39m(handle, ioargs.mode)\n",
      "\u001b[31mFileNotFoundError\u001b[39m: [Errno 2] No such file or directory: 'heart.csv'"
     ]
    }
   ],
   "source": [
    "## 10. EDA - Exploratory Data Analysis\n",
    "#Perform detailed data exploration with real statistics, hypothesis testing, and actionable insights.\n",
    "from newberryai import EDA\n",
    "import pandas as pd\n",
    "\n",
    "eda = EDA()\n",
    "eda.current_data = pd.read_csv('heart.csv')\n",
    "response = eda.ask(\"What is the average value of column 'Sales'?\")\n",
    "print(response)\n",
    "\n",
    "# Visualizations\n",
    "eda.visualize_data('dist')  # distribution plots\n",
    "eda.visualize_data('corr')  # correlation heatmap\n",
    "eda.visualize_data('cat')   # categorical distributions\n",
    "eda.visualize_data('time')  # time series plots if datetime present"
   ]
  },
  {
   "cell_type": "code",
   "execution_count": null,
   "metadata": {},
   "outputs": [],
   "source": [
    "## 11. PDF Document Summarizer\n",
    "#Extract and summarize content from PDF documents.\n",
    "from newberryai import DocSummarizer\n",
    "\n",
    "summarizer = DocSummarizer()\n",
    "response = summarizer.ask('/path/to/your/document.pdf')\n",
    "print(response)"
   ]
  },
  {
   "cell_type": "code",
   "execution_count": null,
   "metadata": {},
   "outputs": [],
   "source": [
    "## 12. PDF Extractor\n",
    "#Extract and query content from PDF documents using embeddings and semantic search. (Async usage)\n",
    "import asyncio\n",
    "from newberryai import PDFExtractor\n",
    "\n",
    "async def pdf_extract_demo():\n",
    "    extractor = PDFExtractor()\n",
    "    pdf_id = await extractor.process_pdf('/path/to/your/document.pdf')\n",
    "    response = await extractor.ask_question(pdf_id, 'What are the main points discussed in the document?')\n",
    "    print(response['answer'])\n",
    "    print(\"\\nSource Chunks:\")\n",
    "    for chunk in response['source_chunks']:\n",
    "        print(f\"\\n---\\n{chunk}\")\n",
    "\n",
    "# To run the async demo in a notebook cell:\n",
    "# await pdf_extract_demo()"
   ]
  },
  {
   "cell_type": "code",
   "execution_count": null,
   "metadata": {},
   "outputs": [
    {
     "ename": "AttributeError",
     "evalue": "'VideoGenerator' object has no attribute 'generate_video'",
     "output_type": "error",
     "traceback": [
      "\u001b[31m---------------------------------------------------------------------------\u001b[39m",
      "\u001b[31mAttributeError\u001b[39m                            Traceback (most recent call last)",
      "\u001b[36mCell\u001b[39m\u001b[36m \u001b[39m\u001b[32mIn[87]\u001b[39m\u001b[32m, line 6\u001b[39m\n\u001b[32m      4\u001b[39m \u001b[38;5;28;01mfrom\u001b[39;00m\u001b[38;5;250m \u001b[39m\u001b[34;01mnewberryai\u001b[39;00m\u001b[38;5;250m \u001b[39m\u001b[38;5;28;01mimport\u001b[39;00m VideoGenerator\n\u001b[32m      5\u001b[39m video_gen = VideoGenerator()\n\u001b[32m----> \u001b[39m\u001b[32m6\u001b[39m \u001b[43mvideo_gen\u001b[49m\u001b[43m.\u001b[49m\u001b[43mgenerate_video\u001b[49m(\n\u001b[32m      7\u001b[39m     text=\u001b[33m'\u001b[39m\u001b[33mA beautiful sunset over the ocean\u001b[39m\u001b[33m'\u001b[39m,\n\u001b[32m      8\u001b[39m     duration=\u001b[32m10\u001b[39m,\n\u001b[32m      9\u001b[39m     fps=\u001b[32m30\u001b[39m,\n\u001b[32m     10\u001b[39m     dimension=\u001b[33m'\u001b[39m\u001b[33m1920x1080\u001b[39m\u001b[33m'\u001b[39m,\n\u001b[32m     11\u001b[39m     output=\u001b[33m'\u001b[39m\u001b[33mvideo.mp4\u001b[39m\u001b[33m'\u001b[39m\n\u001b[32m     12\u001b[39m )\n",
      "\u001b[31mAttributeError\u001b[39m: 'VideoGenerator' object has no attribute 'generate_video'"
     ]
    }
   ],
   "source": [
    "## 13. Video Generator\n",
    "#Generate videos from text using Amazon Bedrock's Nova model. Requires AWS credentials.\n",
    "# Example usage \n",
    "from newberryai import VideoGenerator\n",
    "video_gen = VideoGenerator()\n",
    "video_gen.generate_video(\n",
    "    text='A beautiful sunset over the ocean',\n",
    "    duration=10,\n",
    "    fps=30,\n",
    "    dimension='1920x1080',\n",
    "    output='video.mp4'\n",
    ")"
   ]
  },
  {
   "cell_type": "code",
   "execution_count": 93,
   "metadata": {},
   "outputs": [
    {
     "ename": "TypeError",
     "evalue": "ImageGenerator.generate() got an unexpected keyword argument 'text'",
     "output_type": "error",
     "traceback": [
      "\u001b[31m---------------------------------------------------------------------------\u001b[39m",
      "\u001b[31mTypeError\u001b[39m                                 Traceback (most recent call last)",
      "\u001b[36mCell\u001b[39m\u001b[36m \u001b[39m\u001b[32mIn[93]\u001b[39m\u001b[32m, line 6\u001b[39m\n\u001b[32m      4\u001b[39m \u001b[38;5;28;01mfrom\u001b[39;00m\u001b[38;5;250m \u001b[39m\u001b[34;01mnewberryai\u001b[39;00m\u001b[38;5;250m \u001b[39m\u001b[38;5;28;01mimport\u001b[39;00m ImageGenerator\n\u001b[32m      5\u001b[39m image_gen = ImageGenerator()\n\u001b[32m----> \u001b[39m\u001b[32m6\u001b[39m \u001b[43mimage_gen\u001b[49m\u001b[43m.\u001b[49m\u001b[43mgenerate\u001b[49m\u001b[43m(\u001b[49m\n\u001b[32m      7\u001b[39m \u001b[43m    \u001b[49m\u001b[43mtext\u001b[49m\u001b[43m=\u001b[49m\u001b[33;43m'\u001b[39;49m\u001b[33;43mA beautiful sunset over the ocean\u001b[39;49m\u001b[33;43m'\u001b[39;49m\u001b[43m,\u001b[49m\n\u001b[32m      8\u001b[39m \u001b[43m    \u001b[49m\u001b[43mwidth\u001b[49m\u001b[43m=\u001b[49m\u001b[32;43m1024\u001b[39;49m\u001b[43m,\u001b[49m\n\u001b[32m      9\u001b[39m \u001b[43m    \u001b[49m\u001b[43mheight\u001b[49m\u001b[43m=\u001b[49m\u001b[32;43m1024\u001b[39;49m\u001b[43m,\u001b[49m\n\u001b[32m     10\u001b[39m \u001b[43m    \u001b[49m\u001b[43mnumber_of_images\u001b[49m\u001b[43m=\u001b[49m\u001b[32;43m1\u001b[39;49m\u001b[43m,\u001b[49m\n\u001b[32m     11\u001b[39m \u001b[43m    \u001b[49m\u001b[43mquality\u001b[49m\u001b[43m=\u001b[49m\u001b[33;43m'\u001b[39;49m\u001b[33;43mpremium\u001b[39;49m\u001b[33;43m'\u001b[39;49m\n\u001b[32m     12\u001b[39m \u001b[43m)\u001b[49m\n",
      "\u001b[31mTypeError\u001b[39m: ImageGenerator.generate() got an unexpected keyword argument 'text'"
     ]
    }
   ],
   "source": [
    "## 14. Image Generator\n",
    "#Generate images from text using Amazon Bedrock's Titan Image Generator. Requires AWS credentials.\n",
    "# Example usage \n",
    "from newberryai import ImageGenerator\n",
    "image_gen = ImageGenerator()\n",
    "image_gen.generate(\n",
    "    text='A beautiful sunset over the ocean',\n",
    "    width=1024,\n",
    "    height=1024,\n",
    "    number_of_images=1,\n",
    "    quality='premium'\n",
    ")"
   ]
  },
  {
   "cell_type": "code",
   "execution_count": 66,
   "metadata": {},
   "outputs": [
    {
     "ename": "SyntaxError",
     "evalue": "(unicode error) 'unicodeescape' codec can't decode bytes in position 2-3: truncated \\UXXXXXXXX escape (2007386658.py, line 7)",
     "output_type": "error",
     "traceback": [
      "  \u001b[36mCell\u001b[39m\u001b[36m \u001b[39m\u001b[32mIn[66]\u001b[39m\u001b[32m, line 7\u001b[39m\n\u001b[31m    \u001b[39m\u001b[31mimage_path=\"C:\\Users\\ihars\\OneDrive\\Desktop\\Newberryai\\newberryai\\salman khan 2.jpeg\",\u001b[39m\n               ^\n\u001b[31mSyntaxError\u001b[39m\u001b[31m:\u001b[39m (unicode error) 'unicodeescape' codec can't decode bytes in position 2-3: truncated \\UXXXXXXXX escape\n"
     ]
    }
   ],
   "source": [
    "## 15. Face Recognition\n",
    "#Add and recognize faces using AWS Rekognition. Requires AWS credentials.\n",
    "from newberryai import FaceRecognition\n",
    "\n",
    "face_recognition = FaceRecognition()\n",
    "add_response = face_recognition.add_to_collect(\n",
    "    image_path='C:\\Users\\ihars\\OneDrive\\Desktop\\Newberryai\\newberryai\\salman khan 2.jpeg',\n",
    "    name='Person Name'\n",
    ")\n",
    "print(add_response.message)\n",
    "if add_response.success:\n",
    "    print(f'Face ID: {add_response.face_id}')\n",
    "\n",
    "recognize_response = face_recognition.recognize_image(\n",
    "    image_path=\"C:\\Users\\ihars\\OneDrive\\Desktop\\Newberryai\\newberryai\\salman khan 2.jpeg\n",
    ")\n",
    "print(recognize_response.message)\n",
    "if recognize_response.success:\n",
    "    print(f'Recognized: {recognize_response.name} (Confidence: {recognize_response.confidence:.2f}%)')"
   ]
  },
  {
   "cell_type": "code",
   "execution_count": null,
   "metadata": {},
   "outputs": [],
   "source": [
    "## 16. Face Detection\n",
    "#Process videos and detect faces using AWS Rekognition. Requires AWS credentials.\n",
    "from newberryai import FaceDetection\n",
    "\n",
    "face_detector = FaceDetection()\n",
    "response = face_detector.add_face_to_collection('/path/to/face.jpg', 'Person Name')\n",
    "if response.success:\n",
    "    print(f'Face added successfully: {response.face_id}')\n",
    "\n",
    "# Process a video file and detect faces\n",
    "# results = face_detector.process_video(VideoRequest(\n",
    "#     video_path='/path/to/your/video.mp4',\n",
    "#     max_frames=20\n",
    "# ))\n",
    "# for detection in results:\n",
    "#     print(f'Timestamp: {detection[\"timestamp\"]}s')\n",
    "#     if detection.get('external_image_id'):\n",
    "#         print(f'Matched Face: {detection[\"external_image_id\"]}')\n",
    "#         print(f'Face ID: {detection[\"face_id\"]}')\n",
    "#         print(f'Confidence: {detection[\"confidence\"]:.2f}%')\n",
    "#     else:\n",
    "#         print('No match found in collection')"
   ]
  },
  {
   "cell_type": "code",
   "execution_count": null,
   "metadata": {},
   "outputs": [],
   "source": [
    "## 17. Natural Language to SQL (NL2SQL) Assistant\n",
    "# Generate SQL queries from natural language. Requires database connection.\n",
    "import os\n",
    "from dotenv import load_dotenv\n",
    "from newberryai import NL2SQL, DatabaseConfig, NL2SQLRequest\n",
    "\n",
    "load_dotenv()\n",
    "nl2sql_processor = NL2SQL()\n",
    "db_config = DatabaseConfig(\n",
    "    host=os.getenv('DB_HOST'),\n",
    "    user=os.getenv('DB_USER'),\n",
    "    password=os.getenv('DB_PASSWORD'),\n",
    "    database=os.getenv('DB_NAME'),\n",
    "    port=int(os.getenv('DB_PORT', 3306))\n",
    ")\n",
    "nl2sql_processor.connect_to_database(db_config)\n",
    "request = NL2SQLRequest(\n",
    "    question='Show me the total sales by region'\n",
    ")\n",
    "response = nl2sql_processor.process_query(request)\n",
    "print(f'Generated SQL: {response.generated_sql}')\n",
    "print(f'Data: {response.data}')\n",
    "print(f'Suggested Chart: {response.best_chart}')\n",
    "print(f'Summary: {response.summary}')"
   ]
  },
  {
   "cell_type": "code",
   "execution_count": null,
   "metadata": {},
   "outputs": [],
   "source": [
    "## 18. Virtual Try-On\n",
    "# Generate virtual try-on images using AI. Requires Fashn API credentials.\n",
    "import base64\n",
    "import asyncio\n",
    "from newberryai import VirtualTryOn\n",
    "\n",
    "try_on = VirtualTryOn()\n",
    "with open('model.jpg', 'rb') as f:\n",
    "    model_b64 = base64.b64encode(f.read()).decode()\n",
    "with open('garment.jpg', 'rb') as f:\n",
    "    garment_b64 = base64.b64encode(f.read()).decode()\n",
    "request = try_on.TryOnRequest(\n",
    "    model_image=model_b64,\n",
    "    garment_image=garment_b64,\n",
    "    category='tops'\n",
    ")\n",
    "async def tryon_demo():\n",
    "    response = await try_on.process(request)\n",
    "    while True:\n",
    "        status = await try_on.get_status(response.job_id)\n",
    "        if status.status in ['completed', 'failed']:\n",
    "            break\n",
    "        await asyncio.sleep(3)\n",
    "    if status.status == 'completed' and status.output:\n",
    "        print('Generated images:')\n",
    "        for url in status.output:\n",
    "            print(url)\n",
    "# To run the async demo in a notebook cell:\n",
    "# await tryon_demo()"
   ]
  }
 ],
 "metadata": {
  "kernelspec": {
   "display_name": "Python 3",
   "language": "python",
   "name": "python3"
  },
  "language_info": {
   "codemirror_mode": {
    "name": "ipython",
    "version": 3
   },
   "file_extension": ".py",
   "mimetype": "text/x-python",
   "name": "python",
   "nbconvert_exporter": "python",
   "pygments_lexer": "ipython3",
   "version": "3.12.4"
  }
 },
 "nbformat": 4,
 "nbformat_minor": 2
}
